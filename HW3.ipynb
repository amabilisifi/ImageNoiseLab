{
 "cells": [
  {
   "cell_type": "markdown",
   "metadata": {
    "id": "syJPcVmjpWCz"
   },
   "source": [
    "\n",
    "<br>\n",
    "<font face=\"Times New Roman\">\n",
    "<div dir=ltr align=center>\n",
    "<font color=0F5298 size=7>\n",
    "Digital Image Processing <br>\n",
    "<font color=2565AE size=5>\n",
    "Department Of Mathematical Sciences <br>\n",
    "Spring 2025<br>\n",
    "<font color=3C99D size=5>\n",
    "Assignment 3 <br>\n",
    "</div>\n",
    "\n",
    "\n",
    "---\n",
    "\n"
   ]
  },
  {
   "cell_type": "markdown",
   "metadata": {
    "id": "QgGttVdqpfb9"
   },
   "source": [
    "### Full Name : Nazanin Yousefi\n",
    "### Student Number : 401110172\n",
    "___"
   ]
  },
  {
   "cell_type": "code",
   "execution_count": 60,
   "metadata": {
    "id": "TZJDhZaLZEJG"
   },
   "outputs": [],
   "source": [
    "import numpy as np\n",
    "import matplotlib.pyplot as plt\n",
    "from scipy.fft import dct, idct\n",
    "import cv2"
   ]
  },
  {
   "cell_type": "markdown",
   "metadata": {
    "id": "5cjZUe-tpkG2"
   },
   "source": [
    "## Step 1: Divide image into 8x8 blocks and apply DCT\n",
    "## (use realimage.jpg)"
   ]
  },
  {
   "cell_type": "code",
   "execution_count": 61,
   "metadata": {
    "id": "EFjopnoJphxu"
   },
   "outputs": [],
   "source": [
    "def apply_dct(image):\n",
    "    dct_blocks = None\n",
    "    # YOUR CODE\n",
    "\n",
    "    # Ensure image dimensions are multiples of 8 by padding\n",
    "    height, width = image.shape\n",
    "    pad_height = ((height + 7) // 8) * 8\n",
    "    pad_width = ((width + 7) // 8) * 8\n",
    "    padded_image = np.zeros((pad_height, pad_width))\n",
    "    padded_image[:height, :width] = image\n",
    "    \n",
    "    dct_blocks = np.zeros((pad_height, pad_width))\n",
    "    \n",
    "    # Process each 8x8 block\n",
    "    for i in range(0, pad_height, 8):\n",
    "        for j in range(0, pad_width, 8):\n",
    "            # Extract 8x8 block and subtract 128 for DCT normalization\n",
    "            block = padded_image[i:i+8, j:j+8].astype(float) - 128\n",
    "            # Apply 2D DCT \n",
    "            dct_block = dct(dct(block, axis=0, norm='ortho'), axis=1, norm='ortho')\n",
    "            dct_blocks[i:i+8, j:j+8] = dct_block\n",
    "    \n",
    "    return dct_blocks"
   ]
  },
  {
   "cell_type": "markdown",
   "metadata": {
    "id": "YuEBf3CQpmrg"
   },
   "source": [
    "## Step 2: Quantization\n"
   ]
  },
  {
   "cell_type": "code",
   "execution_count": 63,
   "metadata": {
    "id": "v0dxF1bRpoAx"
   },
   "outputs": [],
   "source": [
    "# Quantization matrix\n",
    "\n",
    "Z = np.array([[16,11,10,16,24,40,51,61],\n",
    "              [12,12,14,19,26,58,60,55],\n",
    "              [14,13,16,24,40,57,69,56],\n",
    "              [14,17,22,29,51,87,80,62],\n",
    "              [18,22,37,56,68,109,103,77],\n",
    "              [24,35,55,64,81,104,113,92],\n",
    "              [49,64,78,87,103,121,120,101],\n",
    "              [72,92,95,98,112,100,130,99]])"
   ]
  },
  {
   "cell_type": "code",
   "execution_count": 64,
   "metadata": {
    "id": "XYrnKmkypql-"
   },
   "outputs": [],
   "source": [
    "def quantize(dct_blocks):\n",
    "    quantized_blocks = None\n",
    "    # YOUR CODE\n",
    "    height, width = dct_blocks.shape\n",
    "    quantized_blocks = np.zeros((height, width))\n",
    "    \n",
    "    # Process each 8x8 block\n",
    "    for i in range(0, height, 8):\n",
    "        for j in range(0, width, 8):\n",
    "            # Extract 8x8 DCT block\n",
    "            block = dct_blocks[i:i+8, j:j+8]\n",
    "            # Quantize by dividing by quantization matrix and rounding\n",
    "            quantized_block = np.round(block / Z)\n",
    "            quantized_blocks[i:i+8, j:j+8] = quantized_block\n",
    "    \n",
    "    return quantized_blocks"
   ]
  },
  {
   "cell_type": "markdown",
   "metadata": {
    "id": "9BKVWAmWppQX"
   },
   "source": [
    "### Matrix to vector\n",
    "Now you need to convert the matrix to an array like this:\n",
    "\n",
    "`[-17, 0, -19, ..., 'EOB']`"
   ]
  },
  {
   "cell_type": "code",
   "execution_count": 65,
   "metadata": {
    "id": "Iqzst_U5psbB"
   },
   "outputs": [],
   "source": [
    "def mat_2_vec(jpeg_matrix):\n",
    "    jpeg_vector = None\n",
    "    # YOUR CODE\n",
    "    zigzag = [\n",
    "        0, 1, 5, 6, 14, 15, 27, 28,\n",
    "        2, 4, 7, 13, 16, 26, 29, 42,\n",
    "        3, 8, 12, 17, 25, 30, 41, 43,\n",
    "        9, 11, 18, 24, 31, 40, 44, 53,\n",
    "        10, 19, 23, 32, 39, 45, 52, 54,\n",
    "        20, 22, 33, 38, 46, 51, 55, 60,\n",
    "        21, 34, 37, 47, 50, 56, 59, 61,\n",
    "        35, 36, 48, 49, 57, 58, 62, 63\n",
    "    ]\n",
    "    # Flatten matrix in zigzag order\n",
    "    jpeg_vector = []\n",
    "    flat_matrix = jpeg_matrix.flatten()\n",
    "    for idx in zigzag:\n",
    "        jpeg_vector.append(int(flat_matrix[idx]))\n",
    "    \n",
    "    jpeg_vector = np.array(jpeg_vector)\n",
    "    non_zero_idx = np.where(jpeg_vector != 0)[0]\n",
    "    if len(non_zero_idx) > 0:\n",
    "        last_non_zero = non_zero_idx[-1] + 1\n",
    "        jpeg_vector = jpeg_vector[:last_non_zero].tolist()\n",
    "    else:\n",
    "        jpeg_vector = []\n",
    "    jpeg_vector.append('EOB')\n",
    "    \n",
    "    return jpeg_vector"
   ]
  },
  {
   "cell_type": "markdown",
   "metadata": {
    "id": "7dl3y7EgpvQv"
   },
   "source": [
    "## Step 3: Apply Inverse DCT for decompression"
   ]
  },
  {
   "cell_type": "code",
   "execution_count": 66,
   "metadata": {
    "id": "sW800sLipxLB"
   },
   "outputs": [],
   "source": [
    "def apply_idct(quantized_blocks):\n",
    "    decompressed_image = None\n",
    "    # YOUR CODE\n",
    "    height, width = quantized_blocks.shape\n",
    "    decompressed_image = np.zeros((height, width))\n",
    "    \n",
    "    # Process each 8x8 block\n",
    "    for i in range(0, height, 8):\n",
    "        for j in range(0, width, 8):\n",
    "            # Extract quantized block\n",
    "            block = quantized_blocks[i:i+8, j:j+8]\n",
    "            # Dequantize by multiplying with quantization matrix\n",
    "            dequantized_block = block * Z\n",
    "            # Apply 2D inverse DCT\n",
    "            reconstructed_block = idct(idct(dequantized_block, axis=0, norm='ortho'), axis=1, norm='ortho')\n",
    "            # Add 128 to reverse DCT normalization\n",
    "            reconstructed_block = reconstructed_block + 128\n",
    "            decompressed_image[i:i+8, j:j+8] = reconstructed_block\n",
    "    \n",
    "    # Clip values to valid pixel range [0, 255]\n",
    "    decompressed_image = np.clip(decompressed_image, 0, 255)\n",
    "    return decompressed_image.astype(np.uint8)"
   ]
  },
  {
   "cell_type": "code",
   "execution_count": null,
   "metadata": {},
   "outputs": [],
   "source": []
  }
 ],
 "metadata": {
  "colab": {
   "provenance": []
  },
  "kernelspec": {
   "display_name": "Python 3 (ipykernel)",
   "language": "python",
   "name": "python3"
  },
  "language_info": {
   "codemirror_mode": {
    "name": "ipython",
    "version": 3
   },
   "file_extension": ".py",
   "mimetype": "text/x-python",
   "name": "python",
   "nbconvert_exporter": "python",
   "pygments_lexer": "ipython3",
   "version": "3.11.8"
  }
 },
 "nbformat": 4,
 "nbformat_minor": 4
}
