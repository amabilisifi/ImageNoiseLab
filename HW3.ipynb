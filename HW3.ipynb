{
 "cells": [
  {
   "cell_type": "markdown",
   "metadata": {
    "id": "syJPcVmjpWCz"
   },
   "source": [
    "\n",
    "<br>\n",
    "<font face=\"Times New Roman\">\n",
    "<div dir=ltr align=center>\n",
    "<font color=0F5298 size=7>\n",
    "Digital Image Processing <br>\n",
    "<font color=2565AE size=5>\n",
    "Department Of Mathematical Sciences <br>\n",
    "Spring 2025<br>\n",
    "<font color=3C99D size=5>\n",
    "Assignment 3 <br>\n",
    "</div>\n",
    "\n",
    "\n",
    "---\n",
    "\n"
   ]
  },
  {
   "cell_type": "markdown",
   "metadata": {
    "id": "QgGttVdqpfb9"
   },
   "source": [
    "### Full Name :\n",
    "### Student Number :\n",
    "___"
   ]
  },
  {
   "cell_type": "code",
   "execution_count": null,
   "metadata": {
    "id": "TZJDhZaLZEJG"
   },
   "outputs": [],
   "source": [
    "import numpy as np\n",
    "import matplotlib.pyplot as plt"
   ]
  },
  {
   "cell_type": "markdown",
   "metadata": {
    "id": "5cjZUe-tpkG2"
   },
   "source": [
    "## Step 1: Divide image into 8x8 blocks and apply DCT\n",
    "## (use realimage.jpg)"
   ]
  },
  {
   "cell_type": "code",
   "execution_count": null,
   "metadata": {
    "id": "EFjopnoJphxu"
   },
   "outputs": [],
   "source": [
    "def apply_dct(image):\n",
    "    dct_blocks = None\n",
    "    # YOUR CODE\n",
    "    return dct_blocks"
   ]
  },
  {
   "cell_type": "markdown",
   "metadata": {
    "id": "YuEBf3CQpmrg"
   },
   "source": [
    "## Step 2: Quantization\n"
   ]
  },
  {
   "cell_type": "code",
   "execution_count": null,
   "metadata": {
    "id": "v0dxF1bRpoAx"
   },
   "outputs": [],
   "source": [
    "# Quantization matrix\n",
    "\n",
    "Z = np.array([[16,11,10,16,24,40,51,61],\n",
    "              [12,12,14,19,26,58,60,55],\n",
    "              [14,13,16,24,40,57,69,56],\n",
    "              [14,17,22,29,51,87,80,62],\n",
    "              [18,22,37,56,68,109,103,77],\n",
    "              [24,35,55,64,81,104,113,92],\n",
    "              [49,64,78,87,103,121,120,101],\n",
    "              [72,92,95,98,112,100,130,99]])"
   ]
  },
  {
   "cell_type": "code",
   "execution_count": null,
   "metadata": {
    "id": "XYrnKmkypql-"
   },
   "outputs": [],
   "source": [
    "def quantize(dct_blocks):\n",
    "    quantized_blocks = None\n",
    "    # YOUR CODE\n",
    "    return quantized_blocks"
   ]
  },
  {
   "cell_type": "markdown",
   "metadata": {
    "id": "9BKVWAmWppQX"
   },
   "source": [
    "### Matrix to vector\n",
    "Now you need to convert the matrix to an array like this:\n",
    "\n",
    "`[-17, 0, -19, ..., 'EOB']`"
   ]
  },
  {
   "cell_type": "code",
   "execution_count": null,
   "metadata": {
    "id": "Iqzst_U5psbB"
   },
   "outputs": [],
   "source": [
    "def mat_2_vec(jpeg_matrix):\n",
    "    jpeg_vector = None\n",
    "    # YOUR CODE\n",
    "    return jpeg_vector"
   ]
  },
  {
   "cell_type": "markdown",
   "metadata": {
    "id": "7dl3y7EgpvQv"
   },
   "source": [
    "## Step 3: Apply Inverse DCT for decompression"
   ]
  },
  {
   "cell_type": "code",
   "execution_count": null,
   "metadata": {
    "id": "sW800sLipxLB"
   },
   "outputs": [],
   "source": [
    "def apply_idct(quantized_blocks):\n",
    "    decompressed_image = None\n",
    "    # YOUR CODE\n",
    "    return decompressed_image.astype(np.uint8)"
   ]
  }
 ],
 "metadata": {
  "colab": {
   "provenance": []
  },
  "kernelspec": {
   "display_name": "Python 3 (ipykernel)",
   "language": "python",
   "name": "python3"
  },
  "language_info": {
   "codemirror_mode": {
    "name": "ipython",
    "version": 3
   },
   "file_extension": ".py",
   "mimetype": "text/x-python",
   "name": "python",
   "nbconvert_exporter": "python",
   "pygments_lexer": "ipython3",
   "version": "3.11.8"
  }
 },
 "nbformat": 4,
 "nbformat_minor": 4
}
